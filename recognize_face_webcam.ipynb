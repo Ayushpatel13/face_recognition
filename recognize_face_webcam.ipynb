{
 "cells": [
  {
   "cell_type": "code",
   "execution_count": null,
   "metadata": {},
   "outputs": [],
   "source": [
    "import imutils\n",
    "import pickle\n",
    "import time\n",
    "import cv2\n",
    "import face_recognition\n",
    "\n",
    "print(\"[INFO] loading encodings...\")\n",
    "data = pickle.loads(open('encodings.pickle',\"rb\").read())\n",
    "\n",
    "print(\"[INFO] processing video...\")\n",
    "stream = cv2.VideoCapture(0)\n",
    "writer = None\n",
    "\n",
    "while True:\n",
    "    (grabbed, frame) = stream.read()\n",
    "    if not grabbed:\n",
    "        break\n",
    "    rgb = cv2.cvtColor(frame, cv2.COLOR_BGR2RGB)\n",
    "    rgb = imutils.resize(frame, width=750)\n",
    "    r = frame.shape[1] / float(rgb.shape[1])\n",
    "    boxes = face_recognition.face_locations(rgb,model='hog')\n",
    "    encodings = face_recognition.face_encodings(rgb, boxes)\n",
    "    names =[]\n",
    "\n",
    "    for encoding in encodings:\n",
    "        matches = face_recognition.compare_faces(data[\"encodings\"],encoding)\n",
    "        name = \"Unknown\"    \n",
    "        if True in matches:\n",
    "            matchedIdxs = [i for (i, b) in enumerate(matches) if b]\n",
    "            counts = {}\n",
    "            for i in matchedIdxs:\n",
    "                name = data[\"names\"][i]\n",
    "                counts[name] = counts.get(name, 0) + 1\n",
    "            name = max(counts, key=counts.get)\n",
    "        names.append(name)\n",
    "\n",
    "    for ((top, right, bottom, left), name) in zip(boxes, names):\n",
    "        top = int(top * r)\n",
    "        right = int(right * r)\n",
    "        bottom = int(bottom * r)\n",
    "        left = int(left * r)\n",
    "        cv2.rectangle(frame, (left, top), (right, bottom),(0, 255, 0), 2)\n",
    "        y = top - 15 if top - 15 > 15 else top + 15\n",
    "        cv2.putText(frame, name, (left, y), cv2.FONT_HERSHEY_SIMPLEX,0.75, (0, 255, 0), 2)\n",
    "        \n",
    "    cv2.imshow(\"Frame\", frame)\n",
    "    key=cv2.waitKey(1)\n",
    "    if key == ord(\"q\"):\n",
    "        break\n",
    "\n",
    "stream.release()"
   ]
  },
  {
   "cell_type": "code",
   "execution_count": null,
   "metadata": {},
   "outputs": [],
   "source": []
  }
 ],
 "metadata": {
  "kernelspec": {
   "display_name": "Python 3",
   "language": "python",
   "name": "python3"
  },
  "language_info": {
   "codemirror_mode": {
    "name": "ipython",
    "version": 3
   },
   "file_extension": ".py",
   "mimetype": "text/x-python",
   "name": "python",
   "nbconvert_exporter": "python",
   "pygments_lexer": "ipython3",
   "version": "3.7.6"
  }
 },
 "nbformat": 4,
 "nbformat_minor": 4
}
